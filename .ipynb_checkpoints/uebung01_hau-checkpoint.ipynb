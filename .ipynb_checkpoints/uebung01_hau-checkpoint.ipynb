{
 "cells": [
  {
   "cell_type": "markdown",
   "metadata": {},
   "source": [
    "# Text2Scene, WS 2020/21\n",
    "## Fingerübung 01\n",
    "### Tim Hau, 6805665"
   ]
  },
  {
   "cell_type": "markdown",
   "metadata": {},
   "source": [
    "shell:\n",
    "\n",
    "```\n",
    "pip install -U spacy beautifulsoup4\n",
    "python -m spacy download en_core_web_sm\n",
    "```"
   ]
  },
  {
   "cell_type": "code",
   "execution_count": 149,
   "metadata": {},
   "outputs": [],
   "source": [
    "import spacy\n",
    "import en_core_web_sm\n",
    "import os\n",
    "from bs4 import BeautifulSoup\n",
    "\n",
    "nlp = en_core_web_sm.load()"
   ]
  },
  {
   "cell_type": "markdown",
   "metadata": {},
   "source": [
    "### Aufgabe 2.2\n",
    "\n",
    "**tokenize_add_PoS** nimmt als Argument den Pfad zum Trainings Ordner und ein Dateiformat entgegen, liest alle XML Dateien ein und speichert diese wieder im übergebenen Dateiformat ab."
   ]
  },
  {
   "cell_type": "code",
   "execution_count": 163,
   "metadata": {},
   "outputs": [],
   "source": [
    "def recursive_read(path):\n",
    "    if not os.path.exists(path):\n",
    "        print(\"path does not exist\")\n",
    "        return False\n",
    "    \n",
    "    dirs = []\n",
    "    files = []\n",
    "    entries = os.listdir(path)\n",
    "    for entry in entries:\n",
    "        subdir_path = os.path.join(path, entry)\n",
    "        is_hidden = entry.startswith('.')\n",
    "        is_xml = entry.endswith('.xml')\n",
    "        if os.path.isdir(subdir_path):\n",
    "            dirs.append(subdir_path) \n",
    "        if os.path.isfile(subdir_path) and not is_hidden and is_xml:\n",
    "            content = read_file(subdir_path)\n",
    "            files.append((subdir_path, content))\n",
    "            \n",
    "    if len(dirs) > 0:\n",
    "        for subdir_path in dirs:\n",
    "            sub_files = recursive_read(subdir_path)\n",
    "            files += sub_files\n",
    "            \n",
    "    return files\n",
    "            \n",
    "    \n",
    "def read_file(path):\n",
    "    with open(path, 'r') as f:\n",
    "        try:\n",
    "            return f.read()\n",
    "        except UnicodeDecodeError:\n",
    "            print(path)\n",
    "            \n",
    "            \n",
    "def save_files(files, extension):\n",
    "    for (dir_path, content) in files:\n",
    "        name = os.path.splitext(dir_path)[0]\n",
    "        joined_name = name + extension\n",
    "        with open(joined_name, 'w') as f:\n",
    "            f.write(content)\n",
    "                \n",
    "\n",
    "def tokenize_add_PoS(path):\n",
    "    files = recursive_read(path)\n",
    "    for name, content in files:\n",
    "        doc = nlp(content)\n",
    "        # for token in doc:\n",
    "            \n",
    "    return"
   ]
  },
  {
   "cell_type": "code",
   "execution_count": 164,
   "metadata": {},
   "outputs": [],
   "source": [
    "tokenize_add_PoS('./Training/')"
   ]
  },
  {
   "cell_type": "code",
   "execution_count": 165,
   "metadata": {},
   "outputs": [],
   "source": [
    "filename = './Training/RFC/Amazon.xml'\n",
    "file = read_file(filename)\n",
    "file = (filename, file)\n",
    "# save_files([file], '.txt')"
   ]
  },
  {
   "cell_type": "code",
   "execution_count": null,
   "metadata": {},
   "outputs": [],
   "source": []
  },
  {
   "cell_type": "code",
   "execution_count": null,
   "metadata": {},
   "outputs": [],
   "source": []
  }
 ],
 "metadata": {
  "kernelspec": {
   "display_name": "Python 3",
   "language": "python",
   "name": "python3"
  },
  "language_info": {
   "codemirror_mode": {
    "name": "ipython",
    "version": 3
   },
   "file_extension": ".py",
   "mimetype": "text/x-python",
   "name": "python",
   "nbconvert_exporter": "python",
   "pygments_lexer": "ipython3",
   "version": "3.8.3"
  }
 },
 "nbformat": 4,
 "nbformat_minor": 4
}
